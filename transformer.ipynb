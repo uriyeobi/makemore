{
 "cells": [
  {
   "cell_type": "markdown",
   "metadata": {},
   "source": [
    "# Transformer\n"
   ]
  },
  {
   "cell_type": "markdown",
   "metadata": {},
   "source": [
    "#### In this notebook, we will implement a core engine of Tranformer.\n",
    "\n",
    "#### Most of the parts are similar to the previous `makemore` notebooks - bigram/trigram/mlp.\n",
    "\n",
    "#### I will go through (almost) every part of the transformer by investigating each operation by example, before making the whole thing into nicer format.\n"
   ]
  },
  {
   "cell_type": "markdown",
   "metadata": {},
   "source": [
    "#### This notebook is based on a video by Andrej Karpathy (https://www.youtube.com/watch?v=kCc8FmEb1nY)\n"
   ]
  },
  {
   "cell_type": "markdown",
   "metadata": {},
   "source": [
    "#### Instead of generating names, we will use one of Shakespeare's work, to generate more texts.\n"
   ]
  },
  {
   "cell_type": "markdown",
   "metadata": {},
   "source": [
    "#### Let's download the dataset file.\n"
   ]
  },
  {
   "cell_type": "code",
   "execution_count": 1,
   "metadata": {},
   "outputs": [],
   "source": [
    "import requests\n",
    "import os\n",
    "\n",
    "input_file_path = \"shakespeare.txt\"\n",
    "if not os.path.exists(input_file_path):\n",
    "    data_url = \"https://raw.githubusercontent.com/karpathy/char-rnn/master/data/tinyshakespeare/input.txt\"\n",
    "    with open(input_file_path, \"w\") as f:\n",
    "        f.write(requests.get(data_url).text)\n"
   ]
  },
  {
   "cell_type": "code",
   "execution_count": 2,
   "metadata": {},
   "outputs": [],
   "source": [
    "with open(\"shakespeare.txt\", \"r\", encoding=\"utf-8\") as f:\n",
    "    text = f.read()\n"
   ]
  },
  {
   "cell_type": "markdown",
   "metadata": {},
   "source": [
    "#### The text is a script, which looks like this:\n"
   ]
  },
  {
   "cell_type": "code",
   "execution_count": 3,
   "metadata": {},
   "outputs": [
    {
     "name": "stdout",
     "output_type": "stream",
     "text": [
      "First Citizen:\n",
      "Before we proceed any further, hear me speak.\n",
      "\n",
      "All:\n",
      "Speak, speak.\n",
      "\n",
      "First Citizen:\n",
      "You are all resolved rather to die than to famish?\n",
      "\n",
      "All:\n",
      "Resolved. resolved.\n",
      "\n",
      "First Citizen:\n",
      "First, you\n"
     ]
    }
   ],
   "source": [
    "print(text[:200])\n"
   ]
  },
  {
   "cell_type": "code",
   "execution_count": 4,
   "metadata": {},
   "outputs": [
    {
     "name": "stdout",
     "output_type": "stream",
     "text": [
      "\n",
      " !$&',-.3:;?ABCDEFGHIJKLMNOPQRSTUVWXYZabcdefghijklmnopqrstuvwxyz\n",
      "65\n"
     ]
    }
   ],
   "source": [
    "chars = sorted(list(set(text)))\n",
    "vocab_size = len(chars)\n",
    "print(\"\".join(chars))\n",
    "print(vocab_size)\n"
   ]
  },
  {
   "cell_type": "markdown",
   "metadata": {},
   "source": [
    "#### There are 65 different characters used in the entire dataset.\n",
    "\n",
    "#### This will be our vocabulary list.\n"
   ]
  },
  {
   "cell_type": "markdown",
   "metadata": {},
   "source": [
    "#### As before, we need encoding/decoding maps.\n"
   ]
  },
  {
   "cell_type": "code",
   "execution_count": 5,
   "metadata": {},
   "outputs": [],
   "source": [
    "stoi = {ch: i for i, ch in enumerate(chars)}\n",
    "itoi = {i: ch for i, ch in enumerate(chars)}\n",
    "encode = lambda s: [stoi[c] for c in s]\n",
    "decode = lambda l: \"\".join([itoi[i] for i in l])\n"
   ]
  },
  {
   "cell_type": "code",
   "execution_count": 6,
   "metadata": {},
   "outputs": [
    {
     "name": "stdout",
     "output_type": "stream",
     "text": [
      "[46, 47, 1, 58, 46, 43, 56, 43]\n"
     ]
    }
   ],
   "source": [
    "print(encode(\"hi there\"))\n"
   ]
  },
  {
   "cell_type": "code",
   "execution_count": 7,
   "metadata": {},
   "outputs": [
    {
     "name": "stdout",
     "output_type": "stream",
     "text": [
      "hi there\n"
     ]
    }
   ],
   "source": [
    "print(decode(encode(\"hi there\")))\n"
   ]
  },
  {
   "cell_type": "markdown",
   "metadata": {},
   "source": [
    "#### (optional) there are other encoders. For example, using tiktoken (a Byte Pair Encoding (https://en.wikipedia.org/wiki/Byte_pair_encoding)):\n"
   ]
  },
  {
   "cell_type": "code",
   "execution_count": 8,
   "metadata": {},
   "outputs": [
    {
     "data": {
      "text/plain": [
       "50257"
      ]
     },
     "execution_count": 8,
     "metadata": {},
     "output_type": "execute_result"
    }
   ],
   "source": [
    "import tiktoken\n",
    "\n",
    "enc = tiktoken.get_encoding(\"gpt2\")\n",
    "enc.n_vocab\n"
   ]
  },
  {
   "cell_type": "markdown",
   "metadata": {},
   "source": [
    "#### There are 50257 vocabularies,\n"
   ]
  },
  {
   "cell_type": "code",
   "execution_count": 9,
   "metadata": {},
   "outputs": [
    {
     "data": {
      "text/plain": [
       "[5303, 612]"
      ]
     },
     "execution_count": 9,
     "metadata": {},
     "output_type": "execute_result"
    }
   ],
   "source": [
    "enc.encode(\"hi there\")\n"
   ]
  },
  {
   "cell_type": "code",
   "execution_count": 10,
   "metadata": {},
   "outputs": [
    {
     "data": {
      "text/plain": [
       "'hi there'"
      ]
     },
     "execution_count": 10,
     "metadata": {},
     "output_type": "execute_result"
    }
   ],
   "source": [
    "enc.decode(enc.encode(\"hi there\"))\n"
   ]
  },
  {
   "cell_type": "markdown",
   "metadata": {},
   "source": [
    "#### Anyway, the engire dataset has 1.1M characters. Let's encode them.\n"
   ]
  },
  {
   "cell_type": "code",
   "execution_count": 11,
   "metadata": {},
   "outputs": [
    {
     "data": {
      "text/plain": [
       "tensor([18, 47, 56,  ..., 45,  8,  0])"
      ]
     },
     "execution_count": 11,
     "metadata": {},
     "output_type": "execute_result"
    }
   ],
   "source": [
    "import torch\n",
    "\n",
    "data = torch.tensor(encode(text), dtype=torch.long)\n",
    "data\n"
   ]
  },
  {
   "cell_type": "code",
   "execution_count": 12,
   "metadata": {},
   "outputs": [
    {
     "data": {
      "text/plain": [
       "torch.Size([1115394])"
      ]
     },
     "execution_count": 12,
     "metadata": {},
     "output_type": "execute_result"
    }
   ],
   "source": [
    "data.shape\n"
   ]
  },
  {
   "cell_type": "code",
   "execution_count": 13,
   "metadata": {},
   "outputs": [
    {
     "data": {
      "text/plain": [
       "torch.int64"
      ]
     },
     "execution_count": 13,
     "metadata": {},
     "output_type": "execute_result"
    }
   ],
   "source": [
    "data.dtype\n"
   ]
  },
  {
   "cell_type": "markdown",
   "metadata": {},
   "source": [
    "#### Let's split train/validation data\n"
   ]
  },
  {
   "cell_type": "code",
   "execution_count": 14,
   "metadata": {},
   "outputs": [],
   "source": [
    "n1 = int(0.8 * len(data))\n",
    "n2 = int(0.9 * len(data))\n",
    "train_data = data[:n1]\n",
    "val_data = data[n1:n2]\n",
    "test_data = data[n2:]"
   ]
  },
  {
   "cell_type": "markdown",
   "metadata": {},
   "source": [
    "#### We are going to work with chunks of data.\n",
    "\n",
    "#### For examle, let's take first 9 characters.\n"
   ]
  },
  {
   "cell_type": "code",
   "execution_count": 15,
   "metadata": {},
   "outputs": [
    {
     "data": {
      "text/plain": [
       "tensor([18, 47, 56, 57, 58,  1, 15, 47, 58])"
      ]
     },
     "execution_count": 15,
     "metadata": {},
     "output_type": "execute_result"
    }
   ],
   "source": [
    "block_size = 8\n",
    "train_data[: block_size + 1]\n"
   ]
  },
  {
   "cell_type": "markdown",
   "metadata": {},
   "source": [
    "#### In the chunk of 9 characters, there are 8 examples. Why?\n"
   ]
  },
  {
   "cell_type": "code",
   "execution_count": 16,
   "metadata": {},
   "outputs": [
    {
     "name": "stdout",
     "output_type": "stream",
     "text": [
      "when input is tensor([18]) the target: 47\n",
      "when input is tensor([18, 47]) the target: 56\n",
      "when input is tensor([18, 47, 56]) the target: 57\n",
      "when input is tensor([18, 47, 56, 57]) the target: 58\n",
      "when input is tensor([18, 47, 56, 57, 58]) the target: 1\n",
      "when input is tensor([18, 47, 56, 57, 58,  1]) the target: 15\n",
      "when input is tensor([18, 47, 56, 57, 58,  1, 15]) the target: 47\n",
      "when input is tensor([18, 47, 56, 57, 58,  1, 15, 47]) the target: 58\n"
     ]
    }
   ],
   "source": [
    "x = train_data[:block_size]\n",
    "y = train_data[1 : block_size + 1]\n",
    "for t in range(block_size):\n",
    "    context = x[: t + 1]\n",
    "    target = y[t]\n",
    "    print(f\"when input is {context} the target: {target}\")\n"
   ]
  },
  {
   "cell_type": "code",
   "execution_count": 17,
   "metadata": {},
   "outputs": [
    {
     "data": {
      "text/plain": [
       "[892315, 111539, 111540]"
      ]
     },
     "execution_count": 17,
     "metadata": {},
     "output_type": "execute_result"
    }
   ],
   "source": [
    "[len(train_data), len(val_data), len(test_data)]\n"
   ]
  },
  {
   "cell_type": "markdown",
   "metadata": {},
   "source": [
    "#### Batch size is a dimension we need to consider.\n"
   ]
  },
  {
   "cell_type": "markdown",
   "metadata": {},
   "source": [
    "#### Suppose the batch size is 4 and the block size is 8.\n"
   ]
  },
  {
   "cell_type": "code",
   "execution_count": 18,
   "metadata": {},
   "outputs": [],
   "source": [
    "torch.manual_seed(42)\n",
    "batch_size = 4\n",
    "block_size = 8\n"
   ]
  },
  {
   "cell_type": "markdown",
   "metadata": {},
   "source": [
    "#### Let's sample batches."
   ]
  },
  {
   "cell_type": "markdown",
   "metadata": {},
   "source": [
    "#### Let's get 4 (batch size) index vector, by sampling from 0, 1, ..., len(train_data) - 8 (block size). "
   ]
  },
  {
   "cell_type": "code",
   "execution_count": 19,
   "metadata": {},
   "outputs": [
    {
     "data": {
      "text/plain": [
       "tensor([700328,  21029,  90044, 831640])"
      ]
     },
     "execution_count": 19,
     "metadata": {},
     "output_type": "execute_result"
    }
   ],
   "source": [
    "ix = torch.randint(len(train_data) - block_size, (batch_size,))\n",
    "ix\n"
   ]
  },
  {
   "cell_type": "markdown",
   "metadata": {},
   "source": [
    "#### Why? Because we are going to create (x,y) pair, by increasing the length of each x data points from 1 to 8 (block size) while keeping that of each y data point as 1."
   ]
  },
  {
   "cell_type": "code",
   "execution_count": 20,
   "metadata": {},
   "outputs": [
    {
     "data": {
      "text/plain": [
       "torch.Size([892315])"
      ]
     },
     "execution_count": 20,
     "metadata": {},
     "output_type": "execute_result"
    }
   ],
   "source": [
    "train_data.shape"
   ]
  },
  {
   "cell_type": "code",
   "execution_count": 21,
   "metadata": {},
   "outputs": [],
   "source": [
    "def get_batch(split):\n",
    "    data = train_data if split == \"train\" else val_data\n",
    "    ix = torch.randint(len(data) - block_size, (batch_size,))\n",
    "    x = torch.stack([data[i : i + block_size] for i in ix])\n",
    "    y = torch.stack([data[i + 1 : i + block_size + 1] for i in ix])\n",
    "    return x, y\n",
    "    \n",
    "\n",
    "xb, yb = get_batch(\"train\")\n"
   ]
  },
  {
   "cell_type": "code",
   "execution_count": 22,
   "metadata": {},
   "outputs": [
    {
     "name": "stdout",
     "output_type": "stream",
     "text": [
      "inputs:\n",
      "torch.Size([4, 8])\n",
      "tensor([[ 1, 58, 46, 43, 47, 56,  1, 39],\n",
      "        [50, 43,  1, 63, 53, 59,  6,  1],\n",
      "        [53, 59, 57,  1, 44, 50, 53, 61],\n",
      "        [56, 45, 43, 42,  8,  0,  0, 24]])\n",
      "targets:\n",
      "torch.Size([4, 8])\n",
      "tensor([[58, 46, 43, 47, 56,  1, 39, 45],\n",
      "        [43,  1, 63, 53, 59,  6,  1, 39],\n",
      "        [59, 57,  1, 44, 50, 53, 61, 43],\n",
      "        [45, 43, 42,  8,  0,  0, 24, 17]])\n"
     ]
    }
   ],
   "source": [
    "print(\"inputs:\")\n",
    "print(xb.shape)\n",
    "print(xb)\n",
    "print(\"targets:\")\n",
    "print(yb.shape)\n",
    "print(yb)\n"
   ]
  },
  {
   "cell_type": "markdown",
   "metadata": {},
   "source": [
    "#### In total, there are 32 examples. Let's see what's inside.\n"
   ]
  },
  {
   "cell_type": "code",
   "execution_count": 23,
   "metadata": {},
   "outputs": [
    {
     "name": "stdout",
     "output_type": "stream",
     "text": [
      "when input is [1] the target: 58\n",
      "when input is [1, 58] the target: 46\n",
      "when input is [1, 58, 46] the target: 43\n",
      "when input is [1, 58, 46, 43] the target: 47\n",
      "when input is [1, 58, 46, 43, 47] the target: 56\n",
      "when input is [1, 58, 46, 43, 47, 56] the target: 1\n",
      "when input is [1, 58, 46, 43, 47, 56, 1] the target: 39\n",
      "when input is [1, 58, 46, 43, 47, 56, 1, 39] the target: 45\n",
      "when input is [50] the target: 43\n",
      "when input is [50, 43] the target: 1\n",
      "when input is [50, 43, 1] the target: 63\n",
      "when input is [50, 43, 1, 63] the target: 53\n",
      "when input is [50, 43, 1, 63, 53] the target: 59\n",
      "when input is [50, 43, 1, 63, 53, 59] the target: 6\n",
      "when input is [50, 43, 1, 63, 53, 59, 6] the target: 1\n",
      "when input is [50, 43, 1, 63, 53, 59, 6, 1] the target: 39\n",
      "when input is [53] the target: 59\n",
      "when input is [53, 59] the target: 57\n",
      "when input is [53, 59, 57] the target: 1\n",
      "when input is [53, 59, 57, 1] the target: 44\n",
      "when input is [53, 59, 57, 1, 44] the target: 50\n",
      "when input is [53, 59, 57, 1, 44, 50] the target: 53\n",
      "when input is [53, 59, 57, 1, 44, 50, 53] the target: 61\n",
      "when input is [53, 59, 57, 1, 44, 50, 53, 61] the target: 43\n",
      "when input is [56] the target: 45\n",
      "when input is [56, 45] the target: 43\n",
      "when input is [56, 45, 43] the target: 42\n",
      "when input is [56, 45, 43, 42] the target: 8\n",
      "when input is [56, 45, 43, 42, 8] the target: 0\n",
      "when input is [56, 45, 43, 42, 8, 0] the target: 0\n",
      "when input is [56, 45, 43, 42, 8, 0, 0] the target: 24\n",
      "when input is [56, 45, 43, 42, 8, 0, 0, 24] the target: 17\n"
     ]
    }
   ],
   "source": [
    "for b in range(batch_size):\n",
    "    for t in range(block_size):\n",
    "        context = xb[b, : t + 1]\n",
    "        target = yb[b, t]\n",
    "        print(f\"when input is {context.tolist()} the target: {target}\")\n"
   ]
  },
  {
   "cell_type": "markdown",
   "metadata": {},
   "source": [
    "#### Now it is clear. \n",
    "- There are 4 batches.\n",
    "- Each batch has 8 examples.\n",
    "- Each example has different length of x: 1, ..., 8.\n",
    "- Each example has the same length of y: 1."
   ]
  },
  {
   "cell_type": "markdown",
   "metadata": {},
   "source": [
    "#### Let's feed them into neural networks.\n"
   ]
  },
  {
   "cell_type": "code",
   "execution_count": 24,
   "metadata": {},
   "outputs": [
    {
     "data": {
      "text/plain": [
       "<torch._C.Generator at 0x10db4bf70>"
      ]
     },
     "execution_count": 24,
     "metadata": {},
     "output_type": "execute_result"
    }
   ],
   "source": [
    "import torch\n",
    "import torch.nn as nn\n",
    "from torch.nn import functional as F\n",
    "\n",
    "torch.manual_seed(42)\n"
   ]
  },
  {
   "cell_type": "markdown",
   "metadata": {},
   "source": [
    "#### Create a embedding table."
   ]
  },
  {
   "cell_type": "code",
   "execution_count": 25,
   "metadata": {},
   "outputs": [
    {
     "data": {
      "text/plain": [
       "Embedding(65, 65)"
      ]
     },
     "execution_count": 25,
     "metadata": {},
     "output_type": "execute_result"
    }
   ],
   "source": [
    "n_embd = 65\n",
    "token_embedding_table = nn.Embedding(vocab_size, n_embd)\n",
    "token_embedding_table"
   ]
  },
  {
   "cell_type": "markdown",
   "metadata": {},
   "source": [
    "#### It is a 65-by-65 matrix, and each row is a 65-dimensional real value vector. Take a look at the first three vectors."
   ]
  },
  {
   "cell_type": "code",
   "execution_count": 26,
   "metadata": {},
   "outputs": [
    {
     "data": {
      "text/plain": [
       "<Axes: >"
      ]
     },
     "execution_count": 26,
     "metadata": {},
     "output_type": "execute_result"
    },
    {
     "data": {
      "image/png": "[encoded data removed]",
      "text/plain": [
       "<Figure size 800x400 with 1 Axes>"
      ]
     },
     "metadata": {},
     "output_type": "display_data"
    }
   ],
   "source": [
    "import pandas as pd\n",
    "pd.DataFrame(token_embedding_table(torch.tensor([0,1,2])).detach().numpy().transpose()).plot(figsize=(8,4), marker='o')"
   ]
  },
  {
   "cell_type": "markdown",
   "metadata": {},
   "source": [
    "#### What do we get if we apply this embedding our `xb`? Recall that `xb` has a dimension of (4,8). (batch size, block size)."
   ]
  },
  {
   "cell_type": "markdown",
   "metadata": {},
   "source": []
  },
  {
   "cell_type": "code",
   "execution_count": 27,
   "metadata": {},
   "outputs": [
    {
     "data": {
      "text/plain": [
       "(torch.Size([4, 8]), Embedding(65, 65))"
      ]
     },
     "execution_count": 27,
     "metadata": {},
     "output_type": "execute_result"
    }
   ],
   "source": [
    "(xb.shape, token_embedding_table)"
   ]
  },
  {
   "cell_type": "code",
   "execution_count": 28,
   "metadata": {},
   "outputs": [
    {
     "data": {
      "text/plain": [
       "torch.Size([4, 8, 65])"
      ]
     },
     "execution_count": 28,
     "metadata": {},
     "output_type": "execute_result"
    }
   ],
   "source": [
    "token_embedding_table(xb).shape"
   ]
  },
  {
   "cell_type": "markdown",
   "metadata": {},
   "source": [
    "#### We get (4,8,32)! (batch size, block size, n_embd). \n",
    "\n",
    "#### That is, each element of `xb` is represented by 32-dimensional vector."
   ]
  },
  {
   "cell_type": "markdown",
   "metadata": {},
   "source": [
    "#### For simplicity, we will consider a bigram model - predicting the next character, given the previous one."
   ]
  },
  {
   "cell_type": "code",
   "execution_count": 29,
   "metadata": {},
   "outputs": [
    {
     "data": {
      "text/plain": [
       "tensor([[ 1, 58, 46, 43, 47, 56,  1, 39],\n",
       "        [50, 43,  1, 63, 53, 59,  6,  1],\n",
       "        [53, 59, 57,  1, 44, 50, 53, 61],\n",
       "        [56, 45, 43, 42,  8,  0,  0, 24]])"
      ]
     },
     "execution_count": 29,
     "metadata": {},
     "output_type": "execute_result"
    }
   ],
   "source": [
    "xb"
   ]
  },
  {
   "cell_type": "code",
   "execution_count": 30,
   "metadata": {},
   "outputs": [
    {
     "data": {
      "text/plain": [
       "tensor([[58, 46, 43, 47, 56,  1, 39, 45],\n",
       "        [43,  1, 63, 53, 59,  6,  1, 39],\n",
       "        [59, 57,  1, 44, 50, 53, 61, 43],\n",
       "        [45, 43, 42,  8,  0,  0, 24, 17]])"
      ]
     },
     "execution_count": 30,
     "metadata": {},
     "output_type": "execute_result"
    }
   ],
   "source": [
    "yb"
   ]
  },
  {
   "cell_type": "markdown",
   "metadata": {},
   "source": [
    "#### With NO training, we will get a random (bigram) model."
   ]
  },
  {
   "cell_type": "code",
   "execution_count": 31,
   "metadata": {},
   "outputs": [
    {
     "data": {
      "text/plain": [
       "torch.Size([4, 8, 65])"
      ]
     },
     "execution_count": 31,
     "metadata": {},
     "output_type": "execute_result"
    }
   ],
   "source": [
    "logits = token_embedding_table(xb)\n",
    "logits.shape"
   ]
  },
  {
   "cell_type": "code",
   "execution_count": 32,
   "metadata": {},
   "outputs": [
    {
     "data": {
      "text/plain": [
       "torch.Size([4, 65])"
      ]
     },
     "execution_count": 32,
     "metadata": {},
     "output_type": "execute_result"
    }
   ],
   "source": [
    "logits = logits[:, -1, :]\n",
    "logits.shape"
   ]
  },
  {
   "cell_type": "code",
   "execution_count": 33,
   "metadata": {},
   "outputs": [
    {
     "data": {
      "text/plain": [
       "torch.Size([4, 65])"
      ]
     },
     "execution_count": 33,
     "metadata": {},
     "output_type": "execute_result"
    }
   ],
   "source": [
    "probs = F.softmax(logits, dim=-1)\n",
    "probs.shape"
   ]
  },
  {
   "cell_type": "markdown",
   "metadata": {},
   "source": [
    "#### Here are the 65 probabilities for each batch (there are 4 batches in total)."
   ]
  },
  {
   "cell_type": "code",
   "execution_count": 34,
   "metadata": {},
   "outputs": [
    {
     "data": {
      "text/plain": [
       "<Axes: >"
      ]
     },
     "execution_count": 34,
     "metadata": {},
     "output_type": "execute_result"
    },
    {
     "data": {
      "image/png": "[encoded data removed]",
      "text/plain": [
       "<Figure size 640x480 with 1 Axes>"
      ]
     },
     "metadata": {},
     "output_type": "display_data"
    }
   ],
   "source": [
    "pd.DataFrame(probs.detach().numpy().transpose()).plot(marker='o') "
   ]
  },
  {
   "cell_type": "markdown",
   "metadata": {},
   "source": [
    "#### Sample a new token for each batch. "
   ]
  },
  {
   "cell_type": "code",
   "execution_count": 35,
   "metadata": {},
   "outputs": [
    {
     "data": {
      "text/plain": [
       "tensor([[59],\n",
       "        [19],\n",
       "        [ 3],\n",
       "        [37]])"
      ]
     },
     "execution_count": 35,
     "metadata": {},
     "output_type": "execute_result"
    }
   ],
   "source": [
    "idx_next = torch.multinomial(probs, num_samples=1)\n",
    "idx_next"
   ]
  },
  {
   "cell_type": "markdown",
   "metadata": {},
   "source": [
    "#### So this will be our new token for each batch. In terms of characters, they are:"
   ]
  },
  {
   "cell_type": "code",
   "execution_count": 36,
   "metadata": {},
   "outputs": [
    {
     "data": {
      "text/plain": [
       "'uG$Y'"
      ]
     },
     "execution_count": 36,
     "metadata": {},
     "output_type": "execute_result"
    }
   ],
   "source": [
    "decode(idx_next.view(-1).tolist())"
   ]
  },
  {
   "cell_type": "markdown",
   "metadata": {},
   "source": [
    "#### Let's summarize what we've seen so far, and convert them into a class."
   ]
  },
  {
   "cell_type": "code",
   "execution_count": 37,
   "metadata": {},
   "outputs": [],
   "source": [
    "class BigramLanguageModel(nn.Module):\n",
    "    def __init__(self, vocab_size):\n",
    "        super().__init__()\n",
    "        self.token_embedding_table = nn.Embedding(vocab_size, vocab_size)\n",
    "\n",
    "    def forward(self, idx, targets=None):\n",
    "        # idx and targets: dimension of (B,T)\n",
    "        logits = self.token_embedding_table(idx)  # (B, T, C)\n",
    "\n",
    "        if targets is None:\n",
    "            loss = None\n",
    "        else:\n",
    "            B, T, C = logits.shape\n",
    "            logits = logits.view(B * T, C)\n",
    "            targets = targets.view(B * T)\n",
    "            loss = F.cross_entropy(logits, targets)\n",
    "\n",
    "        return logits, loss\n",
    "\n",
    "    def generate(self, idx, max_new_tokens):\n",
    "        # idx is (B, T) - beginning index\n",
    "\n",
    "        for _ in range(max_new_tokens):\n",
    "            # get predictions\n",
    "            logits, loss = self(idx)  # logits: (B, T, C)\n",
    "\n",
    "            # focus only on last time step\n",
    "            logits = logits[:, -1, :]  # becomes (B, C)\n",
    "\n",
    "            # get probabilities\n",
    "            probs = F.softmax(logits, dim=-1)  # (B, C)\n",
    "\n",
    "            # sample from distribution\n",
    "            idx_next = torch.multinomial(probs, num_samples=1) # (B, 1)\n",
    "\n",
    "            # append\n",
    "            idx = torch.cat((idx, idx_next), dim=1)  # (B, T+1)\n",
    "        return idx"
   ]
  },
  {
   "cell_type": "markdown",
   "metadata": {},
   "source": [
    "#### A few notes:\n",
    "\n",
    "- `forward` method:\n",
    "  - `nn.Embedding` is a lookup table for vocabulary.\n",
    "  - We have to reshape logits and targets, such that it can be consumed for `cross_entropy`.\n",
    "  - The method `forward` outputs logits (predicted probability) and loss (to be optimized).\n",
    "  - We also need allow it to take `None` targets.\n",
    "- `generate` method: this takes the last time-step, get probability from the embedding table, and sample.\n",
    "  \n",
    "\n"
   ]
  },
  {
   "cell_type": "markdown",
   "metadata": {},
   "source": [
    "#### OK, let's see it runs."
   ]
  },
  {
   "cell_type": "code",
   "execution_count": 38,
   "metadata": {},
   "outputs": [
    {
     "name": "stdout",
     "output_type": "stream",
     "text": [
      "torch.Size([32, 65]) tensor(4.6320, grad_fn=<NllLossBackward0>)\n",
      "\n",
      "LGP&A.V-mweqgZugEnL.VKPWmrUq\n",
      "\n",
      "UV-!eUeTFDt-FaZJsFhHoByZfq Ij R,i\n",
      "HDY 3nyM-mtZ:CZfLZ',oiJQ?Vgk$QXhAFp:\n"
     ]
    }
   ],
   "source": [
    "m = BigramLanguageModel(vocab_size)\n",
    "logits, loss = m(xb, yb)\n",
    "print(logits.shape, loss)\n",
    "idx = torch.zeros((1,1), dtype=torch.long)\n",
    "print(decode(m.generate(idx, max_new_tokens=100)[0].tolist()))"
   ]
  },
  {
   "cell_type": "markdown",
   "metadata": {},
   "source": [
    "#### As expected, nothing but random. Let's train the model.\n"
   ]
  },
  {
   "cell_type": "code",
   "execution_count": 39,
   "metadata": {},
   "outputs": [],
   "source": [
    "optimizer = torch.optim.AdamW(m.parameters(), lr=1e-3)"
   ]
  },
  {
   "cell_type": "code",
   "execution_count": 40,
   "metadata": {},
   "outputs": [
    {
     "name": "stdout",
     "output_type": "stream",
     "text": [
      "999 3.5610086917877197\n",
      "1999 3.0242397785186768\n",
      "2999 2.69878888130188\n",
      "3999 2.650020122528076\n",
      "4999 2.412374973297119\n"
     ]
    }
   ],
   "source": [
    "batch_size = 32\n",
    "for steps in range(5000):\n",
    "    xb, yb = get_batch(\"train\")\n",
    "    logis, loss = m(xb, yb)\n",
    "    optimizer.zero_grad(set_to_none=True)\n",
    "    loss.backward()\n",
    "    optimizer.step()\n",
    "    if (steps + 1) % 1000 == 0:\n",
    "        print(steps, loss.item())"
   ]
  },
  {
   "cell_type": "code",
   "execution_count": 41,
   "metadata": {},
   "outputs": [
    {
     "name": "stdout",
     "output_type": "stream",
     "text": [
      "\n",
      "YBYabthdKwoDbsou eeyes sOrwerapimoangad:\n",
      "Twiveaves h sar f ashe M a\n",
      "\n",
      "Se se, t-PEDzindomeavesh d madK\n"
     ]
    }
   ],
   "source": [
    "print(\n",
    "    decode(\n",
    "        m.generate(idx=torch.zeros((1, 1), dtype=torch.long), max_new_tokens=100)[\n",
    "            0\n",
    "        ].tolist()\n",
    "    )\n",
    ")\n"
   ]
  },
  {
   "cell_type": "markdown",
   "metadata": {},
   "source": [
    "#### Now we have a slightly better model. This is still a bigram (only looking at a single character!). \n",
    "\n",
    "#### We need longer contexts."
   ]
  },
  {
   "cell_type": "markdown",
   "metadata": {},
   "source": [
    "#### Suppose we want to calculate mean of `x[b,0], ..., x[b,t]`: `x[b,t] = mean_{i<=t} * x[b,i]`."
   ]
  },
  {
   "cell_type": "markdown",
   "metadata": {},
   "source": [
    "#### Let's consider `C = 2` (previously it was 65.)"
   ]
  },
  {
   "cell_type": "code",
   "execution_count": 42,
   "metadata": {},
   "outputs": [
    {
     "data": {
      "text/plain": [
       "tensor([[[ 1.9269,  1.4873],\n",
       "         [ 0.9007, -2.1055],\n",
       "         [ 0.6784, -1.2345],\n",
       "         [-0.0431, -1.6047],\n",
       "         [-0.7521,  1.6487],\n",
       "         [-0.3925, -1.4036],\n",
       "         [-0.7279, -0.5594],\n",
       "         [-0.7688,  0.7624]],\n",
       "\n",
       "        [[ 1.6423, -0.1596],\n",
       "         [-0.4974,  0.4396],\n",
       "         [-0.7581,  1.0783],\n",
       "         [ 0.8008,  1.6806],\n",
       "         [ 1.2791,  1.2964],\n",
       "         [ 0.6105,  1.3347],\n",
       "         [-0.2316,  0.0418],\n",
       "         [-0.2516,  0.8599]],\n",
       "\n",
       "        [[-1.3847, -0.8712],\n",
       "         [-0.2234,  1.7174],\n",
       "         [ 0.3189, -0.4245],\n",
       "         [ 0.3057, -0.7746],\n",
       "         [-1.5576,  0.9956],\n",
       "         [-0.8798, -0.6011],\n",
       "         [-1.2742,  2.1228],\n",
       "         [-1.2347, -0.4879]],\n",
       "\n",
       "        [[-0.9138, -0.6581],\n",
       "         [ 0.0780,  0.5258],\n",
       "         [-0.4880,  1.1914],\n",
       "         [-0.8140, -0.7360],\n",
       "         [-1.4032,  0.0360],\n",
       "         [-0.0635,  0.6756],\n",
       "         [-0.0978,  1.8446],\n",
       "         [-1.1845,  1.3835]]])"
      ]
     },
     "execution_count": 42,
     "metadata": {},
     "output_type": "execute_result"
    }
   ],
   "source": [
    "torch.manual_seed(42)\n",
    "B, T, C = 4, 8, 2 # (batch, time, channels)\n",
    "x = torch.randn(B, T, C)\n",
    "x"
   ]
  },
  {
   "cell_type": "code",
   "execution_count": 43,
   "metadata": {},
   "outputs": [
    {
     "name": "stdout",
     "output_type": "stream",
     "text": [
      "torch.Size([1, 2])\n",
      "torch.Size([2, 2])\n",
      "torch.Size([3, 2])\n",
      "torch.Size([4, 2])\n",
      "torch.Size([5, 2])\n",
      "torch.Size([6, 2])\n",
      "torch.Size([7, 2])\n",
      "torch.Size([8, 2])\n",
      "torch.Size([1, 2])\n",
      "torch.Size([2, 2])\n",
      "torch.Size([3, 2])\n",
      "torch.Size([4, 2])\n",
      "torch.Size([5, 2])\n",
      "torch.Size([6, 2])\n",
      "torch.Size([7, 2])\n",
      "torch.Size([8, 2])\n",
      "torch.Size([1, 2])\n",
      "torch.Size([2, 2])\n",
      "torch.Size([3, 2])\n",
      "torch.Size([4, 2])\n",
      "torch.Size([5, 2])\n",
      "torch.Size([6, 2])\n",
      "torch.Size([7, 2])\n",
      "torch.Size([8, 2])\n",
      "torch.Size([1, 2])\n",
      "torch.Size([2, 2])\n",
      "torch.Size([3, 2])\n",
      "torch.Size([4, 2])\n",
      "torch.Size([5, 2])\n",
      "torch.Size([6, 2])\n",
      "torch.Size([7, 2])\n",
      "torch.Size([8, 2])\n"
     ]
    }
   ],
   "source": [
    "xbow = torch.zeros ((B,T,C))\n",
    "for b in range(B):\n",
    "    for t in range(T):\n",
    "        xprev = x[b, : t+1] \n",
    "        print(xprev.shape)\n",
    "        xbow[b,t] = torch.mean(xprev, 0)"
   ]
  },
  {
   "cell_type": "markdown",
   "metadata": {},
   "source": [
    "#### Can we do this operation in other ways? \n",
    "\n",
    "#### Let's first take a look at the following matrix-matrix multiplication."
   ]
  },
  {
   "cell_type": "code",
   "execution_count": 44,
   "metadata": {},
   "outputs": [
    {
     "name": "stdout",
     "output_type": "stream",
     "text": [
      "a=tensor([[1.0000, 0.0000, 0.0000],\n",
      "        [0.5000, 0.5000, 0.0000],\n",
      "        [0.3333, 0.3333, 0.3333]])\n",
      "b=tensor([[2., 7.],\n",
      "        [6., 4.],\n",
      "        [6., 5.]])\n",
      "c=tensor([[2.0000, 7.0000],\n",
      "        [4.0000, 5.5000],\n",
      "        [4.6667, 5.3333]])\n"
     ]
    }
   ],
   "source": [
    "torch.manual_seed(42)\n",
    "a = torch.tril(torch.ones(3,3))\n",
    "a = a / torch.sum(a, 1, keepdim=True)\n",
    "b = torch.randint(0, 10, (3,2)).float()\n",
    "c = a @ b\n",
    "print(f'{a=}')\n",
    "print(f'{b=}')\n",
    "print(f'{c=}')"
   ]
  },
  {
   "cell_type": "markdown",
   "metadata": {},
   "source": [
    "#### Thus, using this trick, we can simplify the above calculation for `xbow`."
   ]
  },
  {
   "cell_type": "code",
   "execution_count": 45,
   "metadata": {},
   "outputs": [
    {
     "data": {
      "text/plain": [
       "tensor([[1., 0., 0., 0., 0., 0., 0., 0.],\n",
       "        [1., 1., 0., 0., 0., 0., 0., 0.],\n",
       "        [1., 1., 1., 0., 0., 0., 0., 0.],\n",
       "        [1., 1., 1., 1., 0., 0., 0., 0.],\n",
       "        [1., 1., 1., 1., 1., 0., 0., 0.],\n",
       "        [1., 1., 1., 1., 1., 1., 0., 0.],\n",
       "        [1., 1., 1., 1., 1., 1., 1., 0.],\n",
       "        [1., 1., 1., 1., 1., 1., 1., 1.]])"
      ]
     },
     "execution_count": 45,
     "metadata": {},
     "output_type": "execute_result"
    }
   ],
   "source": [
    "torch.tril(torch.ones(T,T))"
   ]
  },
  {
   "cell_type": "code",
   "execution_count": 46,
   "metadata": {},
   "outputs": [
    {
     "data": {
      "text/plain": [
       "True"
      ]
     },
     "execution_count": 46,
     "metadata": {},
     "output_type": "execute_result"
    }
   ],
   "source": [
    "wei = torch.tril(torch.ones(T,T))\n",
    "wei = wei / wei.sum(1, keepdim=True)\n",
    "xbow2 = wei @ x # (T, T) @ (B, T, C) -----> (B, T, T) @ (B, T, C) -----> (B, T, C)\n",
    "torch.allclose(xbow, xbow2)"
   ]
  },
  {
   "cell_type": "markdown",
   "metadata": {},
   "source": [
    "#### Thus, `xbow` (brute-force mean) and `xbow2` (using lower tri-angular matrix) are the same."
   ]
  },
  {
   "cell_type": "markdown",
   "metadata": {},
   "source": [
    "#### Another version, but equivalent one, would be using `-inf` and `softmax`. "
   ]
  },
  {
   "cell_type": "code",
   "execution_count": 47,
   "metadata": {},
   "outputs": [
    {
     "data": {
      "text/plain": [
       "True"
      ]
     },
     "execution_count": 47,
     "metadata": {},
     "output_type": "execute_result"
    }
   ],
   "source": [
    "tril = torch.tril(torch.ones(T,T))\n",
    "wei = torch.zeros((T,T))\n",
    "wei = wei.masked_fill(tril==0, float('-inf'))\n",
    "wei = F.softmax(wei, dim=-1)\n",
    "xbow3 = wei @ x\n",
    "torch.allclose(xbow, xbow3)"
   ]
  },
  {
   "cell_type": "markdown",
   "metadata": {},
   "source": [
    "#### Thus, `xbow` (brute-force mean) and `xbow3` (lower-triangular and maskied fill by -inf trick) are the same."
   ]
  },
  {
   "cell_type": "markdown",
   "metadata": {},
   "source": [
    "#### Remarks:\n",
    "- `wei = torch.zeros((T,T))`: in this line, we set all the values of all the tokens to be zero in the beginning, but these tokens will start looking at each other, and some tokens find other tokens more interesting. (\"affinity\" that Andrej called.)\n",
    "- `wei = wei.masked_fill(tril==0, float('-inf'))`: this line makes sure that the future cannot communicate with the past (\"no look ahead\")\n",
    "- We don't need to set `wei` uniform. Remember that every token takes two vectors.\n",
    "- Query: \"What am I looking for\"?\n",
    "- Key: \"What do I contain?\"\n",
    "- A dot product of Q and K becomes `wei`. "
   ]
  },
  {
   "cell_type": "markdown",
   "metadata": {},
   "source": [
    "#### Let's design a single head  of self-attention."
   ]
  },
  {
   "cell_type": "markdown",
   "metadata": {},
   "source": [
    "#### Here is sample data. `C` is set to be `32`, going forward."
   ]
  },
  {
   "cell_type": "code",
   "execution_count": 48,
   "metadata": {},
   "outputs": [],
   "source": [
    "torch.manual_seed(42)\n",
    "B, T, C = 4, 8, 32 # (batch, time, channels)\n",
    "x = torch.randn(B, T, C)"
   ]
  },
  {
   "cell_type": "markdown",
   "metadata": {},
   "source": [
    "#### A new parameter for the head: `head_size`. We set it to be 16 for now."
   ]
  },
  {
   "cell_type": "code",
   "execution_count": 49,
   "metadata": {},
   "outputs": [],
   "source": [
    "head_size = 16"
   ]
  },
  {
   "cell_type": "markdown",
   "metadata": {},
   "source": [
    "#### What is `head_size`? It is the out-dimension for linear modules."
   ]
  },
  {
   "cell_type": "markdown",
   "metadata": {},
   "source": [
    "#### Initialize linear modules for query and key"
   ]
  },
  {
   "cell_type": "code",
   "execution_count": 50,
   "metadata": {},
   "outputs": [
    {
     "data": {
      "text/plain": [
       "(Linear(in_features=32, out_features=16, bias=False),\n",
       " Linear(in_features=32, out_features=16, bias=False),\n",
       " Linear(in_features=32, out_features=16, bias=False))"
      ]
     },
     "execution_count": 50,
     "metadata": {},
     "output_type": "execute_result"
    }
   ],
   "source": [
    "query = nn.Linear(C, head_size, bias=False)\n",
    "key = nn.Linear(C, head_size, bias=False)\n",
    "value = nn.Linear(C, head_size, bias=False)\n",
    "query, key, value"
   ]
  },
  {
   "cell_type": "markdown",
   "metadata": {},
   "source": [
    "#### If we forward this Linear module on x, then we get `[B, T, head_size]` matrix."
   ]
  },
  {
   "cell_type": "code",
   "execution_count": 51,
   "metadata": {},
   "outputs": [
    {
     "data": {
      "text/plain": [
       "(torch.Size([4, 8, 32]),\n",
       " torch.Size([4, 8, 16]),\n",
       " torch.Size([4, 8, 16]),\n",
       " torch.Size([4, 8, 16]))"
      ]
     },
     "execution_count": 51,
     "metadata": {},
     "output_type": "execute_result"
    }
   ],
   "source": [
    "k = key(x) # (B, T, head_size) = (4, 8, 16)\n",
    "q = query(x) # (B, T, head_size) = (4, 8, 16)\n",
    "v = value(x) # (B, T, head_size) = (4, 8, 16)\n",
    "x.shape, k.shape, q.shape, v.shape"
   ]
  },
  {
   "cell_type": "markdown",
   "metadata": {},
   "source": [
    "#### So far, no communication between queries and keys. But if we do a dot-product, "
   ]
  },
  {
   "cell_type": "code",
   "execution_count": 52,
   "metadata": {},
   "outputs": [
    {
     "data": {
      "text/plain": [
       "torch.Size([4, 16, 8])"
      ]
     },
     "execution_count": 52,
     "metadata": {},
     "output_type": "execute_result"
    }
   ],
   "source": [
    "k.transpose(-2,-1).shape"
   ]
  },
  {
   "cell_type": "code",
   "execution_count": 53,
   "metadata": {},
   "outputs": [
    {
     "data": {
      "text/plain": [
       "torch.Size([4, 8, 8])"
      ]
     },
     "execution_count": 53,
     "metadata": {},
     "output_type": "execute_result"
    }
   ],
   "source": [
    "wei = q @ k.transpose(-2,-1) # [4, 8, 16] @ [4, 16, 8] ----> [4, 8, 8]\n",
    "wei.shape"
   ]
  },
  {
   "cell_type": "markdown",
   "metadata": {},
   "source": [
    "#### This is our initialized `wei` (as opposed to all zeros). If we apply the same operations as before,"
   ]
  },
  {
   "cell_type": "code",
   "execution_count": 54,
   "metadata": {},
   "outputs": [
    {
     "data": {
      "text/plain": [
       "torch.Size([4, 8, 16])"
      ]
     },
     "execution_count": 54,
     "metadata": {},
     "output_type": "execute_result"
    }
   ],
   "source": [
    "tril = torch.tril(torch.ones(T,T))\n",
    "# wei = torch.zeros((T,T))\n",
    "wei = wei.masked_fill(tril==0, float('-inf'))\n",
    "wei = F.softmax(wei, dim=-1)\n",
    "out = wei @ v\n",
    "out.shape"
   ]
  },
  {
   "cell_type": "markdown",
   "metadata": {},
   "source": [
    "#### As seen from the below, every single batch element has a different wei value."
   ]
  },
  {
   "cell_type": "markdown",
   "metadata": {},
   "source": [
    "#### First batch"
   ]
  },
  {
   "cell_type": "code",
   "execution_count": 55,
   "metadata": {},
   "outputs": [
    {
     "data": {
      "text/plain": [
       "tensor([[1.0000, 0.0000, 0.0000, 0.0000, 0.0000, 0.0000, 0.0000, 0.0000],\n",
       "        [0.1236, 0.8764, 0.0000, 0.0000, 0.0000, 0.0000, 0.0000, 0.0000],\n",
       "        [0.1274, 0.0991, 0.7735, 0.0000, 0.0000, 0.0000, 0.0000, 0.0000],\n",
       "        [0.1018, 0.5800, 0.0192, 0.2989, 0.0000, 0.0000, 0.0000, 0.0000],\n",
       "        [0.1007, 0.3380, 0.2122, 0.2630, 0.0862, 0.0000, 0.0000, 0.0000],\n",
       "        [0.2143, 0.2812, 0.2176, 0.1199, 0.0668, 0.1003, 0.0000, 0.0000],\n",
       "        [0.1067, 0.1181, 0.0842, 0.1078, 0.0097, 0.5417, 0.0319, 0.0000],\n",
       "        [0.0138, 0.0266, 0.0078, 0.0239, 0.6866, 0.0381, 0.1671, 0.0361]],\n",
       "       grad_fn=<SelectBackward0>)"
      ]
     },
     "execution_count": 55,
     "metadata": {},
     "output_type": "execute_result"
    }
   ],
   "source": [
    "wei[0]"
   ]
  },
  {
   "cell_type": "markdown",
   "metadata": {},
   "source": [
    "#### ...second batch "
   ]
  },
  {
   "cell_type": "code",
   "execution_count": 56,
   "metadata": {},
   "outputs": [
    {
     "data": {
      "text/plain": [
       "tensor([[1.0000, 0.0000, 0.0000, 0.0000, 0.0000, 0.0000, 0.0000, 0.0000],\n",
       "        [0.8200, 0.1800, 0.0000, 0.0000, 0.0000, 0.0000, 0.0000, 0.0000],\n",
       "        [0.0583, 0.7433, 0.1984, 0.0000, 0.0000, 0.0000, 0.0000, 0.0000],\n",
       "        [0.0555, 0.8605, 0.0176, 0.0665, 0.0000, 0.0000, 0.0000, 0.0000],\n",
       "        [0.2292, 0.1540, 0.4331, 0.0279, 0.1558, 0.0000, 0.0000, 0.0000],\n",
       "        [0.2688, 0.0805, 0.1100, 0.0861, 0.1927, 0.2620, 0.0000, 0.0000],\n",
       "        [0.0663, 0.3156, 0.0614, 0.3570, 0.0505, 0.0579, 0.0914, 0.0000],\n",
       "        [0.0361, 0.0506, 0.3941, 0.0328, 0.2050, 0.1358, 0.0200, 0.1256]],\n",
       "       grad_fn=<SelectBackward0>)"
      ]
     },
     "execution_count": 56,
     "metadata": {},
     "output_type": "execute_result"
    }
   ],
   "source": [
    "wei[1]"
   ]
  },
  {
   "cell_type": "markdown",
   "metadata": {},
   "source": [
    "#### Note that the reason why it is \"self-attention\" is because key, query, and value are all from the same source, x. (But there could be other situations. For example, if queries are from x, but keys and values are from external sources, then it will be \"cross-attention\".)"
   ]
  },
  {
   "cell_type": "markdown",
   "metadata": {},
   "source": [
    "#### We would like to make some changes in the code:"
   ]
  },
  {
   "cell_type": "markdown",
   "metadata": {},
   "source": [
    "1. We introduce a new variable `n_embd`, the dimension of embedding vectors: \n",
    "  - `self.token_embedding_table = nn.Embedding(vocab_size, n_embd)`\n",
    "2. We need a linear layer to convert token embedding into logits (for `vocab_size`).\n",
    "  - `self.lm_head = nn.Linear(n.embd, vocab_size)`\n",
    "3. We need a positional embedding table (and incorporate it into the encoding.). This informs our model about the order of sequences.\n",
    "  - `self.position_embedding_table = nn.Embedding(block_size, n_embd)`"
   ]
  },
  {
   "cell_type": "markdown",
   "metadata": {},
   "source": [
    "#### We wrap up what we got. We create a class for single head - `class Head(nn.Module)`.\n",
    "- in `init`, we define linear layers for key, query, and value.\n",
    "- in `forward`: we create the attention score (\"affinity\")"
   ]
  },
  {
   "cell_type": "code",
   "execution_count": 57,
   "metadata": {},
   "outputs": [],
   "source": [
    "n_embd = 32\n",
    "\n",
    "class Head(nn.Module):\n",
    "\n",
    "    def __init__(self, head_size):\n",
    "        super().__init__()\n",
    "        self.key = nn.Linear (n_embd, head_size, bias=False)\n",
    "        self.query = nn.Linear (n_embd, head_size, bias=False)\n",
    "        self.value = nn.Linear (n_embd, head_size, bias=False)\n",
    "        self.register_buffer(\"tril\", torch.tril(torch.ones(block_size, block_size)))\n",
    "\n",
    "    def forward(self, x):\n",
    "        B, T, C = x.shape\n",
    "\n",
    "        # dot (k, q)\n",
    "        k = self.key(x)  # (B,T,C)\n",
    "        q = self.query(x)  # (B,T,C)\n",
    "        wei = q @ k.transpose(-2, -1) * C ** (-0.5)  # dot-product with normalization\n",
    "        wei = wei.masked_fill(self.tril[:T, :T] == 0, float(\"-inf\")) # (B,T,T)\n",
    "        wei = F.softmax(wei, dim=-1)\n",
    "\n",
    "        # aggregate the values\n",
    "        v = self.value(x)  # (B,T,C)\n",
    "        out = wei @ v # (B,T,T) @ (B,T,C) -> (B,T,C)\n",
    "        return out   \n"
   ]
  },
  {
   "cell_type": "markdown",
   "metadata": {},
   "source": [
    "#### We will use this `Head` class in our bigram model."
   ]
  },
  {
   "cell_type": "code",
   "execution_count": 58,
   "metadata": {},
   "outputs": [],
   "source": [
    "class BigramLanguageModel(nn.Module):\n",
    "    def __init__(self, vocab_size):\n",
    "        super().__init__()\n",
    "        self.token_embedding_table = nn.Embedding(vocab_size, n_embd)\n",
    "        self.position_embedding_table = nn.Embedding(block_size, n_embd)\n",
    "        self.sa_head = Head(n_embd)\n",
    "        self.lm_head = nn.Linear(n_embd, vocab_size)\n",
    "        \n",
    "    def forward(self, idx, targets=None):\n",
    "        # idx and targets: dimension of (B,T)\n",
    "        B, T = idx.shape\n",
    "        tok_emb = self.token_embedding_table(idx)  # (B, T, C)\n",
    "        pos_emb = self.position_embedding_table(torch.arange(T)) #, device=device))\n",
    "        x = tok_emb + pos_emb  # inject the information for the order of sequences.\n",
    "        x = self.sa_head(x)  # single head\n",
    "        logits = self.lm_head(x)  # Linear transform of head to vocab_size\n",
    "        if targets is None:\n",
    "            loss = None\n",
    "        else:\n",
    "            B, T, C = logits.shape\n",
    "            logits = logits.view(B * T, C)\n",
    "            targets = targets.view(B * T)\n",
    "            loss = F.cross_entropy(logits, targets)\n",
    "\n",
    "        return logits, loss\n",
    "\n",
    "    def generate(self, idx, max_new_tokens):\n",
    "        # idx is (B, T)\n",
    "        for _ in range(max_new_tokens):\n",
    "\n",
    "            # We will use the last block_size tokens\n",
    "            idx_cond = idx[:, -block_size:] \n",
    "\n",
    "            # get predictions\n",
    "            logits, loss = self(idx_cond)  # logits: (B, T, C)\n",
    "\n",
    "            # focus only on last time step\n",
    "            logits = logits[:, -1, :]  # becomes (B, C)\n",
    "\n",
    "            # get probabilities\n",
    "            probs = F.softmax(logits, dim=-1)  # (B, C)\n",
    "\n",
    "            # sample from distribution\n",
    "            idx_next = torch.multinomial(probs, num_samples=1)\n",
    "\n",
    "            # append\n",
    "            idx = torch.cat((idx, idx_next), dim=1)  # (B, T+1)\n",
    "        return idx"
   ]
  },
  {
   "cell_type": "markdown",
   "metadata": {},
   "source": [
    "#### Let's train this."
   ]
  },
  {
   "cell_type": "code",
   "execution_count": 59,
   "metadata": {},
   "outputs": [],
   "source": [
    "m = BigramLanguageModel(vocab_size)"
   ]
  },
  {
   "cell_type": "code",
   "execution_count": 60,
   "metadata": {},
   "outputs": [],
   "source": [
    "optimizer = torch.optim.AdamW(m.parameters(), lr=1e-3)"
   ]
  },
  {
   "cell_type": "code",
   "execution_count": 61,
   "metadata": {},
   "outputs": [
    {
     "name": "stdout",
     "output_type": "stream",
     "text": [
      "999 2.510788917541504\n",
      "1999 2.3954503536224365\n",
      "2999 2.457631826400757\n",
      "3999 2.399949789047241\n",
      "4999 2.388049364089966\n"
     ]
    }
   ],
   "source": [
    "batch_size = 32\n",
    "for steps in range(5000):\n",
    "    xb, yb = get_batch(\"train\")\n",
    "    logits, loss = m(xb, yb)\n",
    "    optimizer.zero_grad(set_to_none=True)\n",
    "    loss.backward()\n",
    "    optimizer.step()\n",
    "    if (steps + 1) % 1000 == 0:\n",
    "        print(steps, loss.item())"
   ]
  },
  {
   "cell_type": "code",
   "execution_count": 62,
   "metadata": {},
   "outputs": [
    {
     "name": "stdout",
     "output_type": "stream",
     "text": [
      "\n",
      "Tithe swoonchul wnery a: smy winesinon wite,\n",
      "An V he, gel,\n",
      "\n",
      "DINGUSUETCESR: nd ik. Rokerecel, at'stu \n"
     ]
    }
   ],
   "source": [
    "print(\n",
    "    decode(\n",
    "        m.generate(idx=torch.zeros((1, 1), dtype=torch.long), max_new_tokens=100)[\n",
    "            0\n",
    "        ].tolist()\n",
    "    )\n",
    ")\n"
   ]
  },
  {
   "cell_type": "markdown",
   "metadata": {},
   "source": [
    "#### Great, now we see a lot better result."
   ]
  },
  {
   "cell_type": "markdown",
   "metadata": {},
   "source": [
    "#### Here is a simplified architecture for decoder-only transformer."
   ]
  },
  {
   "cell_type": "markdown",
   "metadata": {},
   "source": [
    "- `positional embedding`\n",
    "- `blocks`, where each block is:\n",
    "  - `layer norm`\n",
    "  - `multi-head attention`\n",
    "    - concatenate `head`s and `projection` to (`n_embd` dim)\n",
    "  - `add`\n",
    "  - `layer norm`\n",
    "  - `feed forward`\n",
    "    - `linear`\n",
    "    - `relu`\n",
    "    - `linear`\n",
    "  - `add`\n",
    "- `layer norm`\n",
    "- `linear`\n",
    "- `softmax`\n",
    "\n"
   ]
  },
  {
   "cell_type": "markdown",
   "metadata": {},
   "source": [
    "#### Define parameters"
   ]
  },
  {
   "cell_type": "code",
   "execution_count": 64,
   "metadata": {},
   "outputs": [],
   "source": [
    "batch_size = 16 # how many independent sequences will we process in parallel?\n",
    "block_size = 32 # what is the maximum context length for predictions?\n",
    "max_iters = 5000\n",
    "lr = 1e-3\n",
    "eval_iters = 200\n",
    "n_embd = 64\n",
    "n_head = 4\n",
    "n_layer = 4"
   ]
  },
  {
   "cell_type": "markdown",
   "metadata": {},
   "source": [
    "#### The class `Head` we built doesn't change. Instead, we need a class for multi-head."
   ]
  },
  {
   "cell_type": "code",
   "execution_count": 65,
   "metadata": {},
   "outputs": [],
   "source": [
    "class Head(nn.Module):\n",
    "\n",
    "    def __init__(self, head_size):\n",
    "        super().__init__()\n",
    "        self.key = nn.Linear (n_embd, head_size, bias=False)\n",
    "        self.query = nn.Linear (n_embd, head_size, bias=False)\n",
    "        self.value = nn.Linear (n_embd, head_size, bias=False)\n",
    "        self.register_buffer(\"tril\", torch.tril(torch.ones(block_size, block_size)))\n",
    "\n",
    "    def forward(self, x):\n",
    "        B, T, C = x.shape\n",
    "\n",
    "        # dot (k, q)\n",
    "        k = self.key(x)  # (B,T,C)\n",
    "        q = self.query(x)  # (B,T,C)\n",
    "        wei = q @ k.transpose(-2, -1) * C ** (-0.5)  # dot-product with normalization\n",
    "        wei = wei.masked_fill(self.tril[:T, :T] == 0, float(\"-inf\")) # (B,T,T)\n",
    "        wei = F.softmax(wei, dim=-1)\n",
    "\n",
    "        # aggregate the values\n",
    "        v = self.value(x)  # (B,T,C)\n",
    "        out = wei @ v # (B,T,T) @ (B,T,C) -> (B,T,C)\n",
    "        return out   \n",
    "\n",
    "\n",
    "class MultiHeadAttention(nn.Module):\n",
    "    \"\"\" multiple heads of self-attention in parallel \"\"\"\n",
    "\n",
    "    def __init__(self, num_heads, head_size):\n",
    "        super().__init__()\n",
    "        self.heads = nn.ModuleList([Head(head_size) for _ in range(num_heads)])\n",
    "        self.proj = nn.Linear(n_embd, n_embd)\n",
    "\n",
    "    def forward(self, x):\n",
    "        out = torch.cat([h(x) for h in self.heads], dim=-1)\n",
    "        out = self.proj(out)\n",
    "        return out"
   ]
  },
  {
   "cell_type": "markdown",
   "metadata": {},
   "source": [
    "#### We didn't implement the `feed forward` part yet."
   ]
  },
  {
   "cell_type": "code",
   "execution_count": 66,
   "metadata": {},
   "outputs": [],
   "source": [
    "\n",
    "class FeedFoward(nn.Module):\n",
    "    \"\"\" a simple linear layer followed by a non-linearity \"\"\"\n",
    "\n",
    "    def __init__(self, n_embd):\n",
    "        super().__init__()\n",
    "        self.net = nn.Sequential(\n",
    "            nn.Linear(n_embd, 4 * n_embd),\n",
    "            nn.ReLU(),\n",
    "            nn.Linear(4 * n_embd, n_embd),\n",
    "        )\n",
    "\n",
    "    def forward(self, x):\n",
    "        return self.net(x)"
   ]
  },
  {
   "cell_type": "markdown",
   "metadata": {},
   "source": [
    "#### Using `MultiHeadAttention` and `FeedForward`, we implement a single `Block` class."
   ]
  },
  {
   "cell_type": "code",
   "execution_count": 67,
   "metadata": {},
   "outputs": [],
   "source": [
    "\n",
    "class Block(nn.Module):\n",
    "    \"\"\" Transformer block: communication followed by computation \"\"\"\n",
    "\n",
    "    def __init__(self, n_embd, n_head):\n",
    "        # n_embd: embedding dimension, n_head: the number of heads we'd like\n",
    "        super().__init__()\n",
    "        head_size = n_embd // n_head\n",
    "        self.sa = MultiHeadAttention(n_head, head_size)\n",
    "        self.ffwd = FeedFoward(n_embd)\n",
    "        self.ln1 = nn.LayerNorm(n_embd)\n",
    "        self.ln2 = nn.LayerNorm(n_embd)\n",
    "\n",
    "    def forward(self, x):\n",
    "        x = x + self.sa(self.ln1(x))\n",
    "        x = x + self.ffwd(self.ln2(x))\n",
    "        return x\n"
   ]
  },
  {
   "cell_type": "markdown",
   "metadata": {},
   "source": [
    "#### Incorporating this `Block` class, we revise our bigram model class (this part is exactly the same as the last part of Andrej's notebook.)"
   ]
  },
  {
   "cell_type": "code",
   "execution_count": 68,
   "metadata": {},
   "outputs": [],
   "source": [
    "class BigramLanguageModel(nn.Module):\n",
    "\n",
    "    def __init__(self):\n",
    "        super().__init__()\n",
    "        # each token directly reads off the logits for the next token from a lookup table\n",
    "        self.token_embedding_table = nn.Embedding(vocab_size, n_embd)\n",
    "        self.position_embedding_table = nn.Embedding(block_size, n_embd)\n",
    "        self.blocks = nn.Sequential(*[Block(n_embd, n_head=n_head) for _ in range(n_layer)])\n",
    "        self.ln_f = nn.LayerNorm(n_embd) # final layer norm\n",
    "        self.lm_head = nn.Linear(n_embd, vocab_size)\n",
    "\n",
    "    def forward(self, idx, targets=None):\n",
    "        \n",
    "\n",
    "        # idx and targets are both (B,T) tensor of integers\n",
    "        tok_emb = self.token_embedding_table(idx) # (B,T,C)\n",
    "        B, T, C = tok_emb.shape\n",
    "        pos_emb = self.position_embedding_table(torch.arange(T)) # (T,C)\n",
    "\n",
    "        x = tok_emb + pos_emb # (B,T,C)\n",
    "        x = self.blocks(x) # (B,T,C)\n",
    "        x = self.ln_f(x) # (B,T,C)\n",
    "        logits = self.lm_head(x) # (B,T,vocab_size)\n",
    "\n",
    "        if targets is None:\n",
    "            loss = None\n",
    "        else:\n",
    "            B, T, C = logits.shape\n",
    "            logits = logits.view(B*T, C)\n",
    "            targets = targets.view(B*T)\n",
    "            loss = F.cross_entropy(logits, targets)\n",
    "\n",
    "        return logits, loss\n",
    "\n",
    "    def generate(self, idx, max_new_tokens):\n",
    "        # idx is (B, T) array of indices in the current context\n",
    "        for _ in range(max_new_tokens):\n",
    "            # crop idx to the last block_size tokens\n",
    "            idx_cond = idx[:, -block_size:]\n",
    "            # get the predictions\n",
    "            logits, loss = self(idx_cond)\n",
    "            # focus only on the last time step\n",
    "            logits = logits[:, -1, :] # becomes (B, C)\n",
    "            # apply softmax to get probabilities\n",
    "            probs = F.softmax(logits, dim=-1) # (B, C)\n",
    "            # sample from the distribution\n",
    "            idx_next = torch.multinomial(probs, num_samples=1) # (B, 1)\n",
    "            # append sampled index to the running sequence\n",
    "            idx = torch.cat((idx, idx_next), dim=1) # (B, T+1)\n",
    "        return idx"
   ]
  },
  {
   "cell_type": "markdown",
   "metadata": {},
   "source": [
    "#### OK, let's train the model."
   ]
  },
  {
   "cell_type": "code",
   "execution_count": 69,
   "metadata": {},
   "outputs": [
    {
     "name": "stdout",
     "output_type": "stream",
     "text": [
      "step 0: train loss 4.3214, val loss 4.3170\n",
      "step 100: train loss 2.6514, val loss 2.6744\n",
      "step 200: train loss 2.5040, val loss 2.5352\n",
      "step 300: train loss 2.4155, val loss 2.4510\n",
      "step 400: train loss 2.3548, val loss 2.3902\n",
      "step 500: train loss 2.3054, val loss 2.3582\n",
      "step 600: train loss 2.2679, val loss 2.3161\n",
      "step 700: train loss 2.2112, val loss 2.2534\n",
      "step 800: train loss 2.1817, val loss 2.2157\n",
      "step 900: train loss 2.1378, val loss 2.1971\n",
      "step 1000: train loss 2.1059, val loss 2.1670\n",
      "step 1100: train loss 2.0869, val loss 2.1261\n",
      "step 1200: train loss 2.0651, val loss 2.1324\n",
      "step 1300: train loss 2.0201, val loss 2.0888\n",
      "step 1400: train loss 2.0040, val loss 2.0623\n",
      "step 1500: train loss 1.9844, val loss 2.0367\n",
      "step 1600: train loss 1.9651, val loss 2.0102\n",
      "step 1700: train loss 1.9394, val loss 2.0139\n",
      "step 1800: train loss 1.9214, val loss 2.0101\n",
      "step 1900: train loss 1.9021, val loss 1.9952\n",
      "step 2000: train loss 1.9050, val loss 1.9791\n",
      "step 2100: train loss 1.8696, val loss 1.9544\n",
      "step 2200: train loss 1.8759, val loss 1.9536\n",
      "step 2300: train loss 1.8731, val loss 1.9382\n",
      "step 2400: train loss 1.8437, val loss 1.9334\n",
      "step 2500: train loss 1.8301, val loss 1.9165\n",
      "step 2600: train loss 1.8203, val loss 1.9048\n",
      "step 2700: train loss 1.8142, val loss 1.9038\n",
      "step 2800: train loss 1.8018, val loss 1.9066\n",
      "step 2900: train loss 1.7878, val loss 1.9007\n",
      "step 3000: train loss 1.7901, val loss 1.8859\n",
      "step 3100: train loss 1.7864, val loss 1.8919\n",
      "step 3200: train loss 1.7729, val loss 1.8552\n",
      "step 3300: train loss 1.7589, val loss 1.8764\n",
      "step 3400: train loss 1.7581, val loss 1.8568\n",
      "step 3500: train loss 1.7617, val loss 1.8557\n",
      "step 3600: train loss 1.7402, val loss 1.8523\n",
      "step 3700: train loss 1.7321, val loss 1.8491\n",
      "step 3800: train loss 1.7348, val loss 1.8452\n",
      "step 3900: train loss 1.7296, val loss 1.8467\n",
      "step 4000: train loss 1.7153, val loss 1.8445\n",
      "step 4100: train loss 1.7253, val loss 1.8250\n",
      "step 4200: train loss 1.7183, val loss 1.8177\n",
      "step 4300: train loss 1.6968, val loss 1.8236\n",
      "step 4400: train loss 1.6934, val loss 1.8134\n",
      "step 4500: train loss 1.6786, val loss 1.8263\n",
      "step 4600: train loss 1.7002, val loss 1.8230\n",
      "step 4700: train loss 1.6741, val loss 1.8051\n",
      "step 4800: train loss 1.6641, val loss 1.7880\n",
      "step 4900: train loss 1.6842, val loss 1.7941\n",
      "step 4999: train loss 1.6732, val loss 1.7932\n"
     ]
    }
   ],
   "source": [
    "model = BigramLanguageModel()\n",
    "optimizer = torch.optim.AdamW(model.parameters(), lr=lr)\n",
    "\n",
    "@torch.no_grad()\n",
    "def estimate_loss():\n",
    "    out = {}\n",
    "    model.eval()\n",
    "    for split in ['train', 'val']:\n",
    "        losses = torch.zeros(eval_iters)\n",
    "        for k in range(eval_iters):\n",
    "            X, Y = get_batch(split)\n",
    "            _, loss = model(X, Y)\n",
    "            losses[k] = loss.item()\n",
    "        out[split] = losses.mean()\n",
    "    model.train()\n",
    "    return out\n",
    "\n",
    "\n",
    "for iter in range(max_iters):\n",
    "\n",
    "    # every once in a while evaluate the loss on train and val sets\n",
    "    if iter % 100 == 0 or iter == max_iters - 1:\n",
    "        losses = estimate_loss()\n",
    "        print(f\"step {iter}: train loss {losses['train']:.4f}, val loss {losses['val']:.4f}\")\n",
    "\n",
    "    # sample a batch of data\n",
    "    xb, yb = get_batch('train')\n",
    "\n",
    "    # evaluate the loss\n",
    "    logits, loss = model(xb, yb)\n",
    "    optimizer.zero_grad(set_to_none=True)\n",
    "    loss.backward()\n",
    "    optimizer.step()"
   ]
  },
  {
   "cell_type": "markdown",
   "metadata": {},
   "source": [
    "#### Let's make more (next 2000 characters) work!"
   ]
  },
  {
   "cell_type": "code",
   "execution_count": 70,
   "metadata": {},
   "outputs": [
    {
     "name": "stdout",
     "output_type": "stream",
     "text": [
      "\n",
      "I which I long them-fares here surked,\n",
      "Whil with pursection my faid do.\n",
      "Shephered' and my stande couse.\n",
      "All, I you dreece! the nature! If 'He even grong mise's suck which you more\n",
      "You evens as thou somet. I do hear,\n",
      "That at untery that longs doin the,\n",
      "For my uncred-hen arming to the conked.\n",
      "vire some, becurie 'tis queel!\n",
      "\n",
      "QUEEN VI ELIVA:\n",
      "Yill greaste at same insomest my my diest,\n",
      "That's but comelful; she appayon'd take to Musire herse;\n",
      "Too did and was for undom to by do eath that Edvil\n",
      "He lornk to end not one breada master: hold,\n",
      "inle your shighter thee of right\n",
      "Hast onchemes mytredom of ac his dardient him.\n",
      "\n",
      "AUTOLUMBERLA:\n",
      "It lord?\n",
      "But SBoht that you unsues I dare,\n",
      "Hut stren tongentord of him distrain.\n",
      "Thou do to his it; I to I know out to his lose grast,\n",
      "Whom shame do lady the comegare. Where Cath wive, your prince the is incice\n",
      "Look him, if with I will love!\n",
      "\n",
      "FLURIAE:\n",
      "And poweel tery\n",
      "My death.\n",
      "\n",
      "YORK:\n",
      "Would that wengeft instas, reci' and so name,\n",
      "I hom come, my this'd becate a he had Volsageh'd you,\n",
      "Yet mothou, mischmy some mengeath,\n",
      "Is I Lost beat discontabus: and Eding Rome,\n",
      "And names to'st bow is look thy like long's-ful inck,\n",
      "It to the lother ear to doits dies\n",
      "And all to alown the dost need this broth eas\n",
      "But his namben diess enter and sintubly and 'tis freen these world. Formingm'd;\n",
      "And comficednes true, the afted; beatt force,\n",
      "If so, my rise withdsed defeatitor there blood.\n",
      "\n",
      "BUCKING LOUDY OF ELIZAB:\n",
      "And bestrongen so' an we, goo\n",
      "laughtying aral before not life,\n",
      "by with ress not no ear I have againt,\n",
      "Our is cafn it on\n",
      "Thou boy her untion thy\n",
      "Inlean thought to alicle to se.\n",
      "\n",
      "PAULINA:\n",
      "I'll Ross, that wither told, then nighting,\n",
      "And temmertity time on? Hellebts:\n",
      "That thou death inces lise, as Metion Edward';\n",
      "That Mark here for Lord Glarewick, o the aws yorse.\n",
      "\n",
      "PAULINA:\n",
      "Bi.\n",
      "\n",
      "MENENENIUS:\n",
      "He'll singdes their ss! I seal the lumst and liveby to extill\n",
      "Sweep tat he the do didstysemal of thy matter.\n",
      "\n",
      "UKE OF YORK:\n",
      "Wife our will looke.\n",
      "\n",
      "AUTOLYCUS:\n",
      "Is them sidoim arming na\n"
     ]
    }
   ],
   "source": [
    "context = torch.zeros((1, 1), dtype=torch.long)\n",
    "print(decode(model.generate(context, max_new_tokens=2000)[0].tolist()))"
   ]
  },
  {
   "cell_type": "markdown",
   "metadata": {},
   "source": [
    "#### That's it."
   ]
  },
  {
   "cell_type": "markdown",
   "metadata": {},
   "source": [
    "#### In summary:\n",
    "- The main purpose of this notebook was to understand the detail of the core structure and operations of transformer.\n",
    "- We built a simplified decoder-only transformer from scratch.\n",
    "- The trained transformer was able to generate pretty realistic work."
   ]
  },
  {
   "cell_type": "markdown",
   "metadata": {},
   "source": []
  }
 ],
 "metadata": {
  "interpreter": {
   "hash": "4d58a963836dd33eb5ff9b59551588ae2893d322de45909ccc768763140b4d5f"
  },
  "kernelspec": {
   "display_name": "Python 3.9.10 64-bit ('research')",
   "language": "python",
   "name": "python3"
  },
  "language_info": {
   "codemirror_mode": {
    "name": "ipython",
    "version": 3
   },
   "file_extension": ".py",
   "mimetype": "text/x-python",
   "name": "python",
   "nbconvert_exporter": "python",
   "pygments_lexer": "ipython3",
   "version": "3.9.10"
  },
  "orig_nbformat": 4
 },
 "nbformat": 4,
 "nbformat_minor": 2
}
